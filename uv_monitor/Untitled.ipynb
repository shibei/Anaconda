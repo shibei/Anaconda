{
 "cells": [
  {
   "cell_type": "code",
   "execution_count": 2,
   "metadata": {},
   "outputs": [],
   "source": [
    "from raw_data import RawData\n",
    "from pre_process import DataClean as dc\n",
    "from pre_process import DateData as dd\n",
    "from data_analysis import Analysis\n",
    "from data_merge import Merge\n",
    "from storage import Storage\n",
    "from report import Report\n",
    "import numpy as np\n",
    "from email_data import Mail\n",
    "\n",
    "\n",
    "def uvMonitor(day = 1,cycle = 1,sql = True,excel = True ,report = True,mail = True):\n",
    "    day1 = day\n",
    "    cycle = cycle\n",
    "    day2 = day1 + cycle*7\n",
    "    \n",
    "    #获取原始数据\n",
    "    rawData_ = RawData(day1=day1, day2=day2)\n",
    "    uvData = rawData_.getUvData()\n",
    "    apData = rawData_.getApData()\n",
    "    data400 = rawData_.get400Data()\n",
    "    devInfo = rawData_.getDevInfo()\n",
    "    hosInfo = rawData_.getHosInfo()\n",
    "\n",
    "    #预处理\n",
    "    cleanData = dc(uvData, apData)\n",
    "    uvDataGood, apDataGood = cleanData.uvDataClean(), cleanData.apDataClean()\n",
    "    dataData = dd(uvDataGood, apDataGood, day1=day1, day2=day2)\n",
    "    uvDay1, uvDay2 = dataData.uvDay1Lite, dataData.uvDay2Lite\n",
    "\n",
    "    #对比分析\n",
    "    analData = Analysis(uvDay1, uvDay2)\n",
    "    trouble, rate = analData.comparison()\n",
    "\n",
    "    #数据合并\n",
    "    mergeData = Merge(troubleHos=trouble, uvDay1=uvDay1, uvDay2=uvDay2,\n",
    "                      rate=rate, data400=data400, devInfo=devInfo, hosInfo=hosInfo)\n",
    "    allData = mergeData.allData()\n",
    "\n",
    "    #存储\n",
    "    saveData = Storage(data=allData, day=day1, cycle=cycle)\n",
    "    saveData.toMySql()\n",
    "    excelPath = saveData.toExcel()\n",
    "\n",
    "    #生成报告\n",
    "    reportData = Report(data=allData, day=day1, cycle=cycle)\n",
    "    reportPath = reportData.makeReport()\n",
    "\n",
    "    #发送邮件\n",
    "    pathList = [excelPath, reportPath]\n",
    "    mailData = Mail(pathList=pathList, day=day1, cycle=cycle)\n",
    "    mailData.sendEmail()\n",
    "    \n",
    "def main():\n",
    "    uvMonitor()\n",
    "\n",
    "    \n",
    "if __name__ == '__main__':\n",
    "    main()\n"
   ]
  },
  {
   "cell_type": "code",
   "execution_count": null,
   "metadata": {
    "collapsed": true
   },
   "outputs": [],
   "source": []
  }
 ],
 "metadata": {
  "kernelspec": {
   "display_name": "Python 3",
   "language": "python",
   "name": "python3"
  },
  "language_info": {
   "codemirror_mode": {
    "name": "ipython",
    "version": 3
   },
   "file_extension": ".py",
   "mimetype": "text/x-python",
   "name": "python",
   "nbconvert_exporter": "python",
   "pygments_lexer": "ipython3",
   "version": "3.6.2"
  }
 },
 "nbformat": 4,
 "nbformat_minor": 2
}
