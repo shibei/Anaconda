{
 "cells": [
  {
   "cell_type": "code",
   "execution_count": 3,
   "metadata": {},
   "outputs": [
    {
     "name": "stdout",
     "output_type": "stream",
     "text": [
      "发送成功\n"
     ]
    }
   ],
   "source": [
    "import smtplib\n",
    "import os\n",
    "from email.mime.text import MIMEText\n",
    "from email.mime.multipart import MIMEMultipart\n",
    "from email import encoders\n",
    "user = '541546866@qq.com'\n",
    "pwd = 'slksblakromdbfef'\n",
    "to = ','.join(['zhiping.chen@bblink.cn','shibei1988@foxmail.com'])\n",
    "msg = MIMEMultipart()\n",
    "msg['Subject'] = '这里是主题...'\n",
    "# msg['From'] = 'TEST'\n",
    "content1 = MIMEText('这里是正文！', 'plain', 'utf-8')\n",
    "msg.attach(content1)\n",
    "attfile = '/root/ipython/iris.csv'\n",
    "basename = os.path.basename(attfile)\n",
    "fp = open(attfile, 'rb')\n",
    "att = MIMEText(fp.read(), 'base64', 'utf-8')\n",
    "att[\"Content-Type\"] = 'application/octet-stream'\n",
    "att.add_header('Content-Disposition', 'attachment',filename=('gbk', '', basename))\n",
    "encoders.encode_base64(att)\n",
    "msg.attach(att)\n",
    "#-----------------------------------------------------------\n",
    "s = smtplib.SMTP('smtp.qq.com')\n",
    "s.login(user, pwd)\n",
    "s.sendmail(user, to, msg.as_string())\n",
    "print('发送成功')\n",
    "s.close()"
   ]
  },
  {
   "cell_type": "code",
   "execution_count": 3,
   "metadata": {},
   "outputs": [
    {
     "ename": "NameError",
     "evalue": "name 'slksblakromdbfef' is not defined",
     "output_type": "error",
     "traceback": [
      "\u001b[0;31m---------------------------------------------------------------------------\u001b[0m",
      "\u001b[0;31mNameError\u001b[0m                                 Traceback (most recent call last)",
      "\u001b[0;32m<ipython-input-3-ab88c6920787>\u001b[0m in \u001b[0;36m<module>\u001b[0;34m()\u001b[0m\n\u001b[0;32m----> 1\u001b[0;31m \u001b[0mslksblakromdbfef\u001b[0m\u001b[0;34m\u001b[0m\u001b[0m\n\u001b[0m",
      "\u001b[0;31mNameError\u001b[0m: name 'slksblakromdbfef' is not defined"
     ]
    }
   ],
   "source": [
    "slksblakromdbfef\n"
   ]
  },
  {
   "cell_type": "code",
   "execution_count": null,
   "metadata": {
    "collapsed": true
   },
   "outputs": [],
   "source": []
  }
 ],
 "metadata": {
  "kernelspec": {
   "display_name": "Python 3",
   "language": "python",
   "name": "python3"
  },
  "language_info": {
   "codemirror_mode": {
    "name": "ipython",
    "version": 3
   },
   "file_extension": ".py",
   "mimetype": "text/x-python",
   "name": "python",
   "nbconvert_exporter": "python",
   "pygments_lexer": "ipython3",
   "version": "3.6.2"
  }
 },
 "nbformat": 4,
 "nbformat_minor": 2
}
